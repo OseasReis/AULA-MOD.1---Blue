{
  "nbformat": 4,
  "nbformat_minor": 0,
  "metadata": {
    "colab": {
      "name": "PROJETO 01 -Detetive - Aula 6",
      "provenance": [],
      "collapsed_sections": [],
      "authorship_tag": "ABX9TyNHFIzeHClJ0fGD1IfFz0sD",
      "include_colab_link": true
    },
    "kernelspec": {
      "name": "python3",
      "display_name": "Python 3"
    },
    "language_info": {
      "name": "python"
    }
  },
  "cells": [
    {
      "cell_type": "markdown",
      "metadata": {
        "id": "view-in-github",
        "colab_type": "text"
      },
      "source": [
        "<a href=\"https://colab.research.google.com/github/OseasReis/AULA-MOD.1---Blue/blob/main/PROJETO_01_Detetive_Aula_6.ipynb\" target=\"_parent\"><img src=\"https://colab.research.google.com/assets/colab-badge.svg\" alt=\"Open In Colab\"/></a>"
      ]
    },
    {
      "cell_type": "markdown",
      "metadata": {
        "id": "31zOnJEsOVEU"
      },
      "source": [
        "**Projeto 01 – Detetive**\n",
        "Esse projeto tem a finalidade de fixar os conhecimentos de Variáveis, Print, Input\n",
        "e Condicionais, para isso crie um programa que faça 5 perguntas para uma\n",
        "pessoa sobre um crime. As perguntas são:\n",
        "• \"Você telefonou para a vítima?\"\n",
        "• \" Você esteve no local do crime?\"\n",
        "• \" Você mora perto da vítima?\"\n",
        "• \" Você devia para a vítima?\"\n",
        "• \" Você já trabalhou com a vítima?\"\n",
        "O programa deve, no final, emitir uma classificação sobre a participação da\n",
        "pessoa no crime.\n",
        "Se a pessoa responder positivamente a:\n",
        "• 2 questões ela deve ser classificada como \"Suspeita\",\n",
        "• Entre 3 e 4 como \"Cúmplice\"\n",
        "• 5 como \"Assassino\".\n",
        "• Caso contrário, ele será classificado como \"Inocente\".\n",
        "O projeto deve ser feito individualmente e entregue até o final da aula 06."
      ]
    },
    {
      "cell_type": "code",
      "metadata": {
        "colab": {
          "base_uri": "https://localhost:8080/"
        },
        "id": "YaTwuQjhkAyP",
        "outputId": "0b5e991f-4c95-4078-d683-fea493d209af"
      },
      "source": [
        "print('As 5 perguntas sobre o Crime')\n",
        "print()\n",
        "print('responda com apenas sim ou não')\n",
        "pontos = 0\n",
        "a = str(input('Você telefonou para a vítima?:'))\n",
        "if a =='sim':\n",
        "  pontos = pontos + 1\n",
        "else:\n",
        "  pontos = pontos + 0\n",
        "\n",
        "print()\n",
        "\n",
        "b = str(input('Você esteve no local do crime?:'))\n",
        "if b == 'sim':\n",
        "  pontos = pontos + 1\n",
        "else:\n",
        "  pontos = pontos + 0\n",
        "\n",
        "print()\n",
        "\n",
        "c = str(input('Você mora com a Vítima?'))\n",
        "if c == 'sim':\n",
        "  pontos = pontos + 1\n",
        "else:\n",
        "  pontos = pontos + 0\n",
        "\n",
        "print()\n",
        "\n",
        "d = str(input('Você devia para a Vítima?'))\n",
        "if d == 'sim':\n",
        "  pontos = pontos + 1\n",
        "else:\n",
        "  pontos = pontos + 0\n",
        "\n",
        "print()\n",
        "\n",
        "e = str(input(' Você já trabalhou com a vítima?'))\n",
        "if e =='sim':\n",
        " pontos = pontos + 1\n",
        "else:\n",
        " pontos = pontos + 0\n",
        "\n",
        "print()\n",
        "\n",
        "print(f'VOCÈ FEZ {pontos} pontos')\n",
        "if pontos == 2:\n",
        "  print('CONSIDERADO SUSPEITO')\n",
        "if pontos == 3 or pontos == 4:\n",
        "  print('CONSIDERADO CÚMPLICE')  \n",
        "if pontos == 5:  \n",
        "  print('CONSIDERADO ASSASSINO')\n",
        "elif pontos == 0:\n",
        "  print('CONSIDERADO INOCENTE')  \n",
        "          \n",
        "\n",
        "\n"
      ],
      "execution_count": 29,
      "outputs": [
        {
          "output_type": "stream",
          "text": [
            "As 5 perguntas sobre o Crime\n",
            "\n",
            "responda com apenas sim ou não\n",
            "Você telefonou para a vítima?:sim\n",
            "\n",
            "Você esteve no local do crime?:sim\n",
            "\n",
            "Você mora com a Vítima?não\n",
            "\n",
            "Você devia para a Vítima?não\n",
            "\n",
            " Você já trabalhou com a vítima?não\n",
            "\n",
            "VOCÈ FEZ 2 pontos1\n",
            "CONSIDERADO SUSPEITO\n"
          ],
          "name": "stdout"
        }
      ]
    }
  ]
}