{
  "nbformat": 4,
  "nbformat_minor": 0,
  "metadata": {
    "colab": {
      "name": "T3c5 - Aula 2 -(7-jun)",
      "provenance": [],
      "collapsed_sections": [],
      "authorship_tag": "ABX9TyOP1FxgwTpRvck5MsLIlExV",
      "include_colab_link": true
    },
    "kernelspec": {
      "name": "python3",
      "display_name": "Python 3"
    },
    "language_info": {
      "name": "python"
    }
  },
  "cells": [
    {
      "cell_type": "markdown",
      "metadata": {
        "id": "view-in-github",
        "colab_type": "text"
      },
      "source": [
        "<a href=\"https://colab.research.google.com/github/OseasReis/AULA-MOD.1---Blue/blob/main/T3c5_Aula_2_(7_jun).ipynb\" target=\"_parent\"><img src=\"https://colab.research.google.com/assets/colab-badge.svg\" alt=\"Open In Colab\"/></a>"
      ]
    },
    {
      "cell_type": "markdown",
      "metadata": {
        "id": "Lg85T1Ot6bys"
      },
      "source": [
        "VARIÁVEL"
      ]
    },
    {
      "cell_type": "code",
      "metadata": {
        "colab": {
          "base_uri": "https://localhost:8080/",
          "height": 129
        },
        "id": "lPh_8roK3Y2U",
        "outputId": "1d447dfd-03d6-4f7d-90f5-56724edfb9f9"
      },
      "source": [
        "a = 29 # (int) variavel inteiro\n",
        "b = 1.8 # (float) variarel decimal \n",
        "c = 'Bem vindo(a) aluno(a) Blumers!' #(string) conjunto de caracteres.nr, letra, simbolo -sempre começa e termina com áspas \" ou '\n",
        "\"\n",
        "print(a,b,c)\n",
        "print('a + b + c')"
      ],
      "execution_count": null,
      "outputs": [
        {
          "output_type": "error",
          "ename": "SyntaxError",
          "evalue": "ignored",
          "traceback": [
            "\u001b[0;36m  File \u001b[0;32m\"<ipython-input-1-7845d74101b7>\"\u001b[0;36m, line \u001b[0;32m4\u001b[0m\n\u001b[0;31m    \"\u001b[0m\n\u001b[0m     ^\u001b[0m\n\u001b[0;31mSyntaxError\u001b[0m\u001b[0;31m:\u001b[0m EOL while scanning string literal\n"
          ]
        }
      ]
    },
    {
      "cell_type": "markdown",
      "metadata": {
        "id": "5G_YvXWGI01h"
      },
      "source": [
        "PRINTANDO AS VARIAVEIS CRIADAS "
      ]
    },
    {
      "cell_type": "code",
      "metadata": {
        "colab": {
          "base_uri": "https://localhost:8080/"
        },
        "id": "ewTrx-pv6e8q",
        "outputId": "444f6ed7-579c-436e-a362-2c9f96bca1f0"
      },
      "source": [
        "print('Olá mundo!')\n",
        "print('Esse é o meu primeiro código!!...ebaaa!!!')\n",
        "print()\n",
        "\n",
        "#criando variaveis\n",
        "var1 = 'Blue' # string\n",
        "var2 = 25     # int \n",
        "var3 = 15.87\n",
        "var4 = True\n",
        "\n",
        "\n",
        "print(var1)\n",
        "print(var2)\n",
        "print(var3)\n",
        "print(var4)\n",
        "print()\n",
        "\n",
        "print(type(var1))\n",
        "print(type(var2))\n",
        "print(type(var3))\n",
        "print(type(var4))\n",
        "print('olá mundo')\n",
        "    \n"
      ],
      "execution_count": null,
      "outputs": [
        {
          "output_type": "stream",
          "text": [
            "Olá mundo!\n",
            "Esse é o meu primeiro código!!...ebaaa!!!\n",
            "\n",
            "Blue\n",
            "25\n",
            "15.87\n",
            "True\n",
            "\n",
            "<class 'str'>\n",
            "<class 'int'>\n",
            "<class 'float'>\n",
            "<class 'bool'>\n",
            "olá mundo\n"
          ],
          "name": "stdout"
        }
      ]
    },
    {
      "cell_type": "code",
      "metadata": {
        "colab": {
          "base_uri": "https://localhost:8080/"
        },
        "id": "_zRN30A7O0CM",
        "outputId": "82b11357-e9b8-48ed-d743-20643cffeeeb"
      },
      "source": [
        "var_a,var_b,var_c = 10,10.78,'blue'\n",
        "print(var_a)\n",
        "print(var_b)\n",
        "print(var_c)\n",
        "print(var_a,var_b,var_c)\n",
        "print()\n",
        "\n",
        "print('a variavel a recebeu o valor',var_a)\n",
        "print(' a variavel c recebeu o valor',var_c)\n",
        "print(var_c * var_a)\n",
        "\n",
        "\n",
        "\n",
        "\n",
        "\n"
      ],
      "execution_count": null,
      "outputs": [
        {
          "output_type": "stream",
          "text": [
            "10\n",
            "10.78\n",
            "blue\n",
            "10 10.78 blue\n",
            "\n",
            "a variavel a recebeu o valor 10\n",
            " a variavel c recebeu o valor blue\n",
            "blueblueblueblueblueblueblueblueblueblue\n"
          ],
          "name": "stdout"
        }
      ]
    },
    {
      "cell_type": "markdown",
      "metadata": {
        "id": "nQ2wRdNuIxku"
      },
      "source": [
        ""
      ]
    },
    {
      "cell_type": "markdown",
      "metadata": {
        "id": "28hLAy8Ohkre"
      },
      "source": [
        ""
      ]
    },
    {
      "cell_type": "markdown",
      "metadata": {
        "id": "-rd1atyrWbLr"
      },
      "source": [
        "COMANDO INPUT"
      ]
    },
    {
      "cell_type": "code",
      "metadata": {
        "colab": {
          "base_uri": "https://localhost:8080/"
        },
        "id": "IPzQnxo7WaNu",
        "outputId": "d0205f2a-9b78-4aee-af84-539aa3c2eb8a"
      },
      "source": [
        "nome = input('Digite o seu nome:  ')\n",
        "print('O seu nonme é: ', nome)\n",
        "num1 = int(input('Digite o seu Nr: '))\n",
        "print('o seu  nr é:',num1)\n",
        "num2 = float(input('digite o segundo nr: '))\n",
        "print('o seu segundo nr é:',num2)\n",
        "print()\n",
        "\n",
        "\n",
        "print(num1)\n",
        "print(num2)\n",
        "print()\n",
        "print(type(num1))\n",
        "print(type(num2))"
      ],
      "execution_count": null,
      "outputs": [
        {
          "output_type": "stream",
          "text": [
            "Digite o seu nome:  REIS\n",
            "O seu nonme é:  REIS\n",
            "Digite o seu Nr: 50\n",
            "o seu  nr é: 50\n",
            "digite o segundo nr: 4\n",
            "o seu segundo nr é: 4.0\n",
            "\n",
            "50\n",
            "4.0\n",
            "\n",
            "<class 'int'>\n",
            "<class 'float'>\n"
          ],
          "name": "stdout"
        }
      ]
    },
    {
      "cell_type": "markdown",
      "metadata": {
        "id": "QAVfdhffrlRC"
      },
      "source": [
        "OPERADORES ARITMÉTICOS"
      ]
    },
    {
      "cell_type": "code",
      "metadata": {
        "colab": {
          "base_uri": "https://localhost:8080/"
        },
        "id": "4TsPNzZ8rjfk",
        "outputId": "a1d71209-d139-4618-b11b-580e9b5c3631"
      },
      "source": [
        "num1 = int(input('Digite o primeiro nr:')) \n",
        "num2 =int(input('Digite o segundo nr:'))\n",
        "\n",
        "print(num1+num2)\n",
        "print(num1-num2)\n",
        "print(num1 * num2)\n",
        "print('a divisão dos nrs é =:',num1/num2)"
      ],
      "execution_count": null,
      "outputs": [
        {
          "output_type": "stream",
          "text": [
            "Digite o primeiro nr:20\n",
            "Digite o segundo nr:2\n",
            "22\n",
            "18\n",
            "40\n",
            "a divisão dos nrs é =: 10.0\n"
          ],
          "name": "stdout"
        }
      ]
    },
    {
      "cell_type": "code",
      "metadata": {
        "colab": {
          "base_uri": "https://localhost:8080/"
        },
        "id": "wKqaKAOrwPWt",
        "outputId": "1fbcdb34-0fec-4a03-ec23-ec3abde269d6"
      },
      "source": [
        "num1 = int(input('Digite o primeiro nr:')) \n",
        "num2 =int(input('Digite o segundo nr:'))\n",
        "\n",
        "print('A soma dos nrs é:',num1+num2)\n",
        "print('A subtração dos nrs é:',num1-num2)\n",
        "print('A multiplicação dos nr é:',num1 * num2)\n",
        "print('A divisão dos nrs é :',num1/num2)\n",
        "print('A divisão inteira dos nrs é:',num1 // num2)\n",
        "print('A exponenciação dos nrs é:',num1 ** num2)\n",
        "print('O resto da divisão dos nrs é:', num1 % num2)"
      ],
      "execution_count": null,
      "outputs": [
        {
          "output_type": "stream",
          "text": [
            "Digite o primeiro nr:14\n",
            "Digite o segundo nr:4\n",
            "A soma dos nrs é: 18\n",
            "A subtração dos nrs é: 10\n",
            "A multiplicação dos nr é: 56\n",
            "A divisão dos nrs é : 3.5\n",
            "A divisão inteira dos nrs é: 3\n",
            "A exponenciação dos nrs é: 38416\n",
            "O resto da divisão é: 2\n"
          ],
          "name": "stdout"
        }
      ]
    },
    {
      "cell_type": "markdown",
      "metadata": {
        "id": "T_kAXrEt4YAo"
      },
      "source": [
        ""
      ]
    },
    {
      "cell_type": "markdown",
      "metadata": {
        "id": "FL79LY7g3FlO"
      },
      "source": [
        "EXERCÍCIOS\n"
      ]
    },
    {
      "cell_type": "markdown",
      "metadata": {
        "id": "6zCY8djV5gwD"
      },
      "source": [
        ""
      ]
    },
    {
      "cell_type": "markdown",
      "metadata": {
        "id": "DGIHMAyJ4Zwo"
      },
      "source": [
        "\"Crie um programa que solicite um um valor em real ao usuÃ¡rio e converta esse valor, para:\\n\",\n",
        "        \"\\n\",\n",
        "        \"- DOLAR,\\n\",\n",
        "        \"- EURO,\\n\",\n",
        "        \"- LIBRA ESTERLINA,\\n\",\n",
        "        \"- DÃ“LAR CANADENSE,\\n\",\n",
        "        \"- PESO ARGENTINO,\\n\",\n",
        "        \"- PESO CHILENO.\\n\",\n",
        "        \"\\n\",\n",
        "        \"Para esse exercÃ­cio vocÃª precisarÃ¡ realizar uma pesquisa para saber a cotaÃ§Ã£o de cada moeda em real. Mostrar o resultado no formato $ XXXX.XX\"\n"
      ]
    },
    {
      "cell_type": "code",
      "metadata": {
        "colab": {
          "base_uri": "https://localhost:8080/"
        },
        "id": "RL67RHtu3EjR",
        "outputId": "f685d13a-2ab2-4dff-db37-acaf3928dc05"
      },
      "source": [
        "valor_Dolar = 5.04\n",
        "valor_Euro = 6.13\n",
        "valor_libraEsterlina = 7.13\n",
        "valor_Dolarcanadense = 4.16\n",
        "Peso_argentino = 00.53\n",
        "Peso_Chileno = 00.070\n",
        "quantidade_real = float(input('Quantos reias?  '))\n",
        "\n",
        "quantidade_Dolar = quantidade_real / valor_Dolar\n",
        "print('Total de  ' + str(quantidade_Dolar) +  '  dolares')\n",
        "\n",
        "\n",
        "\n",
        "\n",
        "\n"
      ],
      "execution_count": null,
      "outputs": [
        {
          "output_type": "stream",
          "text": [
            "Quantos reias?  25\n",
            "Total de  4.9603174603174605  dolares\n"
          ],
          "name": "stdout"
        }
      ]
    }
  ]
}